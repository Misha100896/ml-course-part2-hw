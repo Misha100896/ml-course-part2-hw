{
 "cells": [
  {
   "cell_type": "markdown",
   "metadata": {},
   "source": [
    "<span style=\"font-size: 14pt\">MIPT, Advanced ML, Autumn 2017</span>\n",
    "\n",
    "<span style=\"font-size: 16pt\"> HW #9: Recommendation System\n",
    "\n",
    "<span style=\"color:blue; font-size: 12pt\">Andrey Saitgalin </span>\n",
    "<span style=\"color:blue; font-size: 12pt; font-family: 'Verdana'\">andrey.saitgalin@gmail.com</span>, \n",
    "\n",
    "<span style=\"color:blue; font-size: 12pt\">Alexey Dral </span>,\n",
    "<span style=\"color:blue; font-size: 12pt; font-family: 'Verdana'\">aadral@gmail.com</span>"
   ]
  },
  {
   "cell_type": "markdown",
   "metadata": {},
   "source": [
    "<h1 align=\"center\">Organization Info</h1> "
   ]
  },
  {
   "cell_type": "markdown",
   "metadata": {},
   "source": [
    "**Дополнительный материал для выполнения дз**:\n",
    "<a href= \"https://github.com/ml-mipt/ml-mipt-part2/tree/master/2017/lectures\">Лекции по курсу</a>\n",
    "\n",
    "**Оформление дз**: \n",
    "- Присылайте выполненное задание на почту ``ml.course.mipt@gmail.com``\n",
    "- Укажите тему письма в следующем формате ``ML2017_Aut_fall <номер_группы> <фамилия>``, к примеру -- ``ML2017_Aut_fall 401 ivanov``\n",
    "- Выполненное дз сохраните в файл ``<фамилия>_<группа>_task<номер>.ipnb``, к примеру -- ``ivanov_491_task9.ipnb``\n",
    "\n",
    "**Вопросы**:\n",
    "- Присылайте вопросы на почту ``ml.course.mipt@gmail.com``\n",
    "- Укажите тему письма в следующем формате ``ML2017_Aut_fall Question <Содержание вопроса>``\n",
    "\n",
    "** Дедлайн**:\n",
    "<span style=\"color:red; font-size: 12pt\">16.12.2017 23:59 </span>\n",
    "\n",
    "--------\n",
    "- **PS1**: Мы используем автоматические фильтры, и просто не найдем ваше дз, если вы не аккуратно его подпишите.\n",
    "- **PS2**: Напоминаем, что дедлайны жесткие, письма пришедшие после автоматически удаляются =( чтобы соблазна не было."
   ]
  },
  {
   "cell_type": "markdown",
   "metadata": {},
   "source": [
    "<h1 align=\"center\">Check Questions (0%)</h1> \n",
    "Вопросы отсутствуют"
   ]
  },
  {
   "cell_type": "markdown",
   "metadata": {},
   "source": [
    "<h1 align=\"center\"> Practical tasks (100%)</h1>\n",
    "\n",
    "\n",
    "# Построение content-based рекомендательной системы\n",
    "## Part 1\n",
    "Для каждого фильма получите описание в текстовом виде с IMDB или (и) The movie database (у них есть открытое API). https://www.themoviedb.org/?language=ru. Вывести описание фильма под id 778. Также можно использовать рецензии."
   ]
  },
  {
   "cell_type": "code",
   "execution_count": 52,
   "metadata": {
    "collapsed": true
   },
   "outputs": [],
   "source": [
    "import numpy as np\n",
    "import pandas as pd\n",
    "from collections import Counter, defaultdict\n",
    "from tqdm import tqdm\n",
    "from scipy.spatial.distance import cosine\n",
    "from scipy.sparse import csr_matrix"
   ]
  },
  {
   "cell_type": "code",
   "execution_count": 2,
   "metadata": {
    "scrolled": true
   },
   "outputs": [
    {
     "name": "stderr",
     "output_type": "stream",
     "text": [
      "/usr/lib64/python3.6/site-packages/ipykernel_launcher.py:4: DeprecationWarning: 'U' mode is deprecated\n",
      "  after removing the cwd from sys.path.\n"
     ]
    }
   ],
   "source": [
    "movies = pd.read_csv('movies.csv')\n",
    "ratings = pd.read_csv('ratings.csv')\n",
    "links = pd.read_csv('links.csv')\n",
    "tmdb_data = pd.read_csv(open('tmdb_data.csv','rU'), encoding='utf-8', engine='c')\n",
    "links = links.dropna(axis=0, how='any')\n",
    "links.tmdbId = links.tmdbId.astype(np.int64)\n",
    "tmdb_data = tmdb_data.dropna(axis=0, how='any')\n",
    "tmdb_data = tmdb_data[tmdb_data.id.str.match('\\d+')]\n",
    "tmdb_data.id = tmdb_data.id.astype(np.int64)\n",
    "tmdb_data = tmdb_data.groupby('id').last().reset_index()\n",
    "udf = ratings[['userId', 'movieId', 'rating']]\n",
    "mdf = movies[['movieId', 'genres']].merge(links[['movieId', 'tmdbId']], on='movieId')\n",
    "mdf = mdf.merge(tmdb_data[['id', 'overview']], left_on='tmdbId', right_on='id')\n",
    "mdf.drop(['tmdbId', 'id'], axis=1, inplace=True)\n",
    "mdf.set_index('movieId', inplace=True)\n",
    "mdf['num'] = np.arange(len(mdf))\n",
    "mdf = mdf[mdf.num < 1000]\n",
    "udf = udf[udf.movieId.isin(mdf.index)]"
   ]
  },
  {
   "cell_type": "code",
   "execution_count": 6,
   "metadata": {},
   "outputs": [
    {
     "data": {
      "text/plain": [
       "'Renton, deeply immersed in the Edinburgh drug scene, tries to clean up and get out, despite the allure of the drugs and influence of friends.'"
      ]
     },
     "execution_count": 6,
     "metadata": {},
     "output_type": "execute_result"
    }
   ],
   "source": [
    "mdf.loc[778].overview"
   ]
  },
  {
   "cell_type": "markdown",
   "metadata": {},
   "source": [
    "## Part 2 \n",
    "Извлеките текстовые признаки у фильмов: tf idf, биграммы (может какие-то еще). Биграммы - статистика по биграммам, сколько какая биграмма встречается. Формулы для TF-IDF смотреть тут: https://en.wikipedia.org/wiki/Tf%E2%80%93idf \n",
    "    1. Используйте TF с double 0.5 normalization\n",
    "    2. Используйте стандартный IDF: \n",
    "$$idf(t, D) = \\frac{log N}{(1 + |d in D : t in d|)}$$"
   ]
  },
  {
   "cell_type": "code",
   "execution_count": 35,
   "metadata": {
    "collapsed": true
   },
   "outputs": [],
   "source": [
    "class MyTfidfVectorizer:\n",
    "    def __init__(self, docs):\n",
    "        unigram_voc = {}\n",
    "        bigram_voc = {}\n",
    "        \n",
    "        for doc in tqdm(docs):\n",
    "            words = doc.split()\n",
    "            for i, word in enumerate(words):\n",
    "                if i + 1 != len(words):\n",
    "                    pair = (word, words[i + 1])\n",
    "                    if pair not in bigram_voc:\n",
    "                        bigram_voc[pair] = len(bigram_voc)\n",
    "                \n",
    "                if word not in unigram_voc:\n",
    "                    unigram_voc[word] = len(unigram_voc)\n",
    "        \n",
    "        self.tf = csr_matrix((len(docs), len(unigram_voc)))\n",
    "        self.idf = np.zeros(len(unigram_voc))\n",
    "        self.bigram = csr_matrix((len(docs), len(bigram_voc)))\n",
    "        \n",
    "        for i, doc in tqdm(enumerate(docs)):\n",
    "            words = doc.split()\n",
    "            \n",
    "            cntr = Counter(words)\n",
    "            for word, count in cntr.items():\n",
    "                self.tf[i, unigram_voc[word]] = count / len(words)\n",
    "                self.idf[unigram_voc[word]] += 1\n",
    "                \n",
    "            for j in range(len(words) - 1):\n",
    "                self.bigram[i, bigram_voc[(words[j], words[j + 1])]] += 1\n",
    "\n",
    "        self.idf = np.log(len(docs) / self.idf)\n",
    "    \n",
    "    def __getitem__(self, i):\n",
    "        row = self.tf.getrow(i).toarray()[0]\n",
    "        result = 0.5 * (1 + row / row.max())\n",
    "        return np.append(result, self.bigram.getrow(i).toarray()[0])"
   ]
  },
  {
   "cell_type": "code",
   "execution_count": 39,
   "metadata": {},
   "outputs": [
    {
     "name": "stderr",
     "output_type": "stream",
     "text": [
      "100%|██████████| 1000/1000 [00:00<00:00, 12325.31it/s]\n",
      "0it [00:00, ?it/s]/home/mikhail/.local/lib64/python3.6/site-packages/scipy/sparse/compressed.py:742: SparseEfficiencyWarning: Changing the sparsity structure of a csr_matrix is expensive. lil_matrix is more efficient.\n",
      "  SparseEfficiencyWarning)\n",
      "1000it [01:27, 11.45it/s]\n"
     ]
    }
   ],
   "source": [
    "tfidf = MyTfidfVectorizer(mdf.overview.tolist())"
   ]
  },
  {
   "cell_type": "markdown",
   "metadata": {},
   "source": [
    "## Part 3 \n",
    "Выведите подсчитанные признаки из пункта 2 для фильма с id 778."
   ]
  },
  {
   "cell_type": "code",
   "execution_count": 40,
   "metadata": {},
   "outputs": [
    {
     "data": {
      "text/plain": [
       "array([ 0.5,  0.5,  0.5, ...,  0. ,  0. ,  0. ])"
      ]
     },
     "execution_count": 40,
     "metadata": {},
     "output_type": "execute_result"
    }
   ],
   "source": [
    "tfidf[778]"
   ]
  },
  {
   "cell_type": "markdown",
   "metadata": {},
   "source": [
    "## Part 4\n",
    "Для каждого пользователя найдите топ жанров, которые нравятся пользователю (можно делать как на семинаре top 5, top 3 и top 2) и порекомендуйте таким пользователя фильмы близкие по текстовому описанию (см. пункт 2). Для оценки результатов пункта 3 используйте метрику HitRate и метрики ранжирования (N)DCG. Формулу для подсчета HitRate можно взять на семинаре,  (N)DCG: https://en.wikipedia.org/wiki/Discounted_cumulative_gain\n",
    "\n"
   ]
  },
  {
   "cell_type": "code",
   "execution_count": null,
   "metadata": {
    "collapsed": true
   },
   "outputs": [],
   "source": []
  }
 ],
 "metadata": {
  "kernelspec": {
   "display_name": "Python [conda root]",
   "language": "python",
   "name": "conda-root-py"
  },
  "language_info": {
   "codemirror_mode": {
    "name": "ipython",
    "version": 2
   },
   "file_extension": ".py",
   "mimetype": "text/x-python",
   "name": "python",
   "nbconvert_exporter": "python",
   "pygments_lexer": "ipython2",
   "version": "2.7.13"
  }
 },
 "nbformat": 4,
 "nbformat_minor": 1
}
